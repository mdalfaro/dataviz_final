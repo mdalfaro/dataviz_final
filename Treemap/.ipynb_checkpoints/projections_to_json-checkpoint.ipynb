{
 "cells": [
  {
   "cell_type": "code",
   "execution_count": 127,
   "metadata": {},
   "outputs": [],
   "source": [
    "import numpy as np\n",
    "import pandas as pd"
   ]
  },
  {
   "cell_type": "code",
   "execution_count": 128,
   "metadata": {},
   "outputs": [],
   "source": [
    "nfl = pd.read_csv('nfl_projections.csv')"
   ]
  },
  {
   "cell_type": "code",
   "execution_count": 129,
   "metadata": {},
   "outputs": [
    {
     "name": "stderr",
     "output_type": "stream",
     "text": [
      "/Applications/anaconda3/lib/python3.6/site-packages/ipykernel_launcher.py:6: SettingWithCopyWarning: \n",
      "A value is trying to be set on a copy of a slice from a DataFrame\n",
      "\n",
      "See the caveats in the documentation: http://pandas.pydata.org/pandas-docs/stable/indexing.html#indexing-view-versus-copy\n",
      "  \n"
     ]
    }
   ],
   "source": [
    "simplified_teams = pd.DataFrame(columns=['player', 'team', 'fpts'])\n",
    "\n",
    "top=5\n",
    "for team in nfl['team'].unique():\n",
    "    players = nfl[nfl['team'] == team]\n",
    "    players.sort_values('fpts', ascending=False, inplace=True)\n",
    "    \n",
    "    top_players = players[['player', 'team', 'fpts']][0:top]\n",
    "    other_players = pd.DataFrame({'player':['other'], 'team':[team], 'fpts':[players[top:]['fpts'].sum()]})\n",
    "    \n",
    "    simplified_teams = simplified_teams.append([top_players, other_players])"
   ]
  },
  {
   "cell_type": "code",
   "execution_count": 133,
   "metadata": {},
   "outputs": [],
   "source": [
    "json = '{\\n\\t\"name\": \"NFL Teams\",\\n\\t\"children\": [\\n'\n",
    "\n",
    "j = 0\n",
    "for team in simplified_teams['team'].unique():\n",
    "    players = simplified_teams[simplified_teams['team'] == team]\n",
    "    \n",
    "    json += '\\t\\t{\\n'\n",
    "    json += f'\\t\\t\\t\"name\": \"{team}\",\\n'\n",
    "    json += '\\t\\t\\t\"children\": [\\n'\n",
    "    i = 0 \n",
    "    for player in players.iterrows():\n",
    "        json += '\\t\\t\\t\\t{\\n'\n",
    "        json += f'\\t\\t\\t\\t\\t\"name\":\" {player[1][0]}\",\\n'\n",
    "        json += f'\\t\\t\\t\\t\\t\"value\": {player[1][2]}\\n'\n",
    "        json += '\\t\\t\\t\\t}'\n",
    "        if i != len(players)-1:\n",
    "            json += ','\n",
    "        json += '\\n'\n",
    "        i += 1\n",
    "    json += '\\t\\t\\t]\\n'\n",
    "    json += '\\t\\t}'\n",
    "    if j == 31:\n",
    "        json += ','\n",
    "    json += '\\n'\n",
    "    j+=1 "
   ]
  },
  {
   "cell_type": "code",
   "execution_count": 134,
   "metadata": {},
   "outputs": [],
   "source": [
    "with open('json_test.json', 'w') as f: \n",
    "    f.write(json)"
   ]
  },
  {
   "cell_type": "code",
   "execution_count": null,
   "metadata": {},
   "outputs": [],
   "source": []
  }
 ],
 "metadata": {
  "kernelspec": {
   "display_name": "Python 3",
   "language": "python",
   "name": "python3"
  },
  "language_info": {
   "codemirror_mode": {
    "name": "ipython",
    "version": 3
   },
   "file_extension": ".py",
   "mimetype": "text/x-python",
   "name": "python",
   "nbconvert_exporter": "python",
   "pygments_lexer": "ipython3",
   "version": "3.6.8"
  }
 },
 "nbformat": 4,
 "nbformat_minor": 2
}
